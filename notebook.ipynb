{
 "cells": [
  {
   "attachments": {},
   "cell_type": "markdown",
   "metadata": {},
   "source": [
    "# Case Hype 2023_2"
   ]
  },
  {
   "attachments": {},
   "cell_type": "markdown",
   "metadata": {},
   "source": [
    "## Introdução "
   ]
  },
  {
   "attachments": {},
   "cell_type": "markdown",
   "metadata": {},
   "source": [
    "Os membros da gestão do Hype, de vez em quando, escolhem um jogo para jogarem juntos. O jogo escolhido da vez foi \"Pokémon Omega Ruby / Alpha Sapphire\", mais comumente chamado de \"Pokémon ORAS\".\n",
    "\n",
    "Uma das atividades mais queridas entre os jogadores de Pokémon está a captura de todos os monstrinhos, porém trata-se de uma tarefa bem árdua dependendo do jogo da franquia. No caso de ORAS, estamos falando de mais de 700 pokémon.\n",
    "\n",
    "Tendo em vista a dificuldade de capturar mais de 700 pokémon, os membros da gestão decidiram dividir entre eles os pokémon para serem capturados. De forma que, juntando o pokémon de todos eles, teriam todos os pokémon do jogo. Porém, como fazer essa divisão?  \n",
    "\n",
    "Durante uma confraternização do Hype, os membros da gestão citaram o desafio da divisão dos pokémon entre os outros membros do Hype, porém ninguém soube dar uma boa resposta para a pergunta. Após alguns dias, chegou um email misterioso na caixa de entrada do Hype com um conjunto de dados que havia as características dos pokémon e quem deveria capturar aquele pokémon.\n",
    "\n",
    "Os membros da gestão estupefatos com a mensagem começaram a se perguntar qual era a lógica por trás daquela divisão e, caso aquela divisão fosse coerente, como eles poderiam criar um classificador para usar em aventuras pokémon futuras. "
   ]
  },
  {
   "attachments": {},
   "cell_type": "markdown",
   "metadata": {},
   "source": [
    "### Sobre o Conjunto de Dados "
   ]
  },
  {
   "attachments": {},
   "cell_type": "markdown",
   "metadata": {},
   "source": [
    "O conjunto de dados enviado no email possui as seguintes colunas:\n",
    "\n",
    "\n",
    "- #: Número de indentificação do pokémon \n",
    "- Name: Nome do pokémon\n",
    "- Type 1: Tipo primário do pokémon\n",
    "- Type 2: Tipo secundário do pokémon\n",
    "- HP: \"hit points\", ou seja, a quantidade de dano que o pokémon pode sofrer antes de ser derrotado \n",
    "- Attack: poder de ataque do pokémon\n",
    "- Defense: poder de defesa do pokémon\n",
    "- SP Atk: poder de ataque especial do pokémon\n",
    "- SP Def: poder de defesa especial do pokémon\n",
    "- Speed: determina qual pokémon ataca primeiro em cada rodada\n",
    "- Total: soma de todos os stats do pokémon. Stats são o HP, Attack, Defense, Sp. Atk, Sp. Def e Speed\n",
    "- Generation: geração do pokémon. Ao lançar um novo jogo principal de pokémon, vem uma nova leva de Pokémon que formam uma nova geração. Temos 6 gerações contempladas nesse conjunto.\n",
    "- Legendary: indica se o pokémon é lendário ou não.\n",
    "- Dono: um indicativo de quem deveria capturar o pokémon dentre os membros da gestão do Hype.\n"
   ]
  },
  {
   "attachments": {},
   "cell_type": "markdown",
   "metadata": {},
   "source": [
    "### Sua tarefa para esse case"
   ]
  },
  {
   "attachments": {},
   "cell_type": "markdown",
   "metadata": {},
   "source": [
    "Sua tarefa consiste em entender o conjunto de dados e criar um classificador que consiga indicar qual membro da gestão deve capturar um pokémon. Para isso, seu trabalho será divido em 5 tarefas:\n",
    "\n",
    "1. \"Responda as questões\": responda algumas perguntas que temos sobre o conjunto de dados utilizando pandas e numpy\n",
    "2. \"Visualização dos dados\": crie gráficos que respondam algumas questões sobre o conjunto de dados \n",
    "3. \"Preparação de dados\": faça a preparação dos dados que serão utilizados para a criação do modelo de machine learning\n",
    "4. \"Criação do modelo\": crie um classicador que consiga indicar com base nas características do pokémon quem deveria capturá-lo\n",
    "5. \"Avaliação\": avalie o classificador criado\n",
    "\n",
    "Mais detalhes de como serão as tarefas estão na seção tarefas"
   ]
  },
  {
   "attachments": {},
   "cell_type": "markdown",
   "metadata": {},
   "source": [
    "## Setup "
   ]
  },
  {
   "attachments": {},
   "cell_type": "markdown",
   "metadata": {},
   "source": [
    "Antes de iniciar as tarefas, vamos setar algumas coisas:"
   ]
  },
  {
   "attachments": {},
   "cell_type": "markdown",
   "metadata": {},
   "source": [
    "Na célula abaixo, importe todas as bibliotecas que você utilizará no case. Não faça imports fora além dessa célula, por favor."
   ]
  },
  {
   "cell_type": "code",
   "execution_count": 1,
   "metadata": {},
   "outputs": [],
   "source": [
    "# coloque aqui os seus import\n",
    "import pandas as pd"
   ]
  },
  {
   "attachments": {},
   "cell_type": "markdown",
   "metadata": {},
   "source": [
    "Abaixo há a leitura do conjunto de dados. Não leia nenhum conjunto de dados além desse e não altere a forma de leitura do dataset."
   ]
  },
  {
   "cell_type": "code",
   "execution_count": 2,
   "metadata": {},
   "outputs": [],
   "source": [
    "# não altere essa celula\n",
    "pkmn = pd.read_csv('.\\data\\pokemon.csv')"
   ]
  },
  {
   "cell_type": "code",
   "execution_count": 3,
   "metadata": {},
   "outputs": [
    {
     "data": {
      "text/html": [
       "<div>\n",
       "<style scoped>\n",
       "    .dataframe tbody tr th:only-of-type {\n",
       "        vertical-align: middle;\n",
       "    }\n",
       "\n",
       "    .dataframe tbody tr th {\n",
       "        vertical-align: top;\n",
       "    }\n",
       "\n",
       "    .dataframe thead th {\n",
       "        text-align: right;\n",
       "    }\n",
       "</style>\n",
       "<table border=\"1\" class=\"dataframe\">\n",
       "  <thead>\n",
       "    <tr style=\"text-align: right;\">\n",
       "      <th></th>\n",
       "      <th>#</th>\n",
       "      <th>Name</th>\n",
       "      <th>Type 1</th>\n",
       "      <th>Type 2</th>\n",
       "      <th>Total</th>\n",
       "      <th>HP</th>\n",
       "      <th>Attack</th>\n",
       "      <th>Defense</th>\n",
       "      <th>Sp. Atk</th>\n",
       "      <th>Sp. Def</th>\n",
       "      <th>Speed</th>\n",
       "      <th>Generation</th>\n",
       "      <th>Legendary</th>\n",
       "      <th>Dono</th>\n",
       "    </tr>\n",
       "  </thead>\n",
       "  <tbody>\n",
       "    <tr>\n",
       "      <th>0</th>\n",
       "      <td>1</td>\n",
       "      <td>Bulbasaur</td>\n",
       "      <td>Grass</td>\n",
       "      <td>Poison</td>\n",
       "      <td>318</td>\n",
       "      <td>45</td>\n",
       "      <td>49</td>\n",
       "      <td>49</td>\n",
       "      <td>65</td>\n",
       "      <td>65</td>\n",
       "      <td>45</td>\n",
       "      <td>1</td>\n",
       "      <td>False</td>\n",
       "      <td>Felipe</td>\n",
       "    </tr>\n",
       "    <tr>\n",
       "      <th>1</th>\n",
       "      <td>2</td>\n",
       "      <td>Ivysaur</td>\n",
       "      <td>Grass</td>\n",
       "      <td>Poison</td>\n",
       "      <td>405</td>\n",
       "      <td>60</td>\n",
       "      <td>62</td>\n",
       "      <td>63</td>\n",
       "      <td>80</td>\n",
       "      <td>80</td>\n",
       "      <td>60</td>\n",
       "      <td>1</td>\n",
       "      <td>False</td>\n",
       "      <td>Yago</td>\n",
       "    </tr>\n",
       "    <tr>\n",
       "      <th>2</th>\n",
       "      <td>3</td>\n",
       "      <td>Venusaur</td>\n",
       "      <td>Grass</td>\n",
       "      <td>Poison</td>\n",
       "      <td>525</td>\n",
       "      <td>80</td>\n",
       "      <td>82</td>\n",
       "      <td>83</td>\n",
       "      <td>100</td>\n",
       "      <td>100</td>\n",
       "      <td>80</td>\n",
       "      <td>1</td>\n",
       "      <td>False</td>\n",
       "      <td>Yago</td>\n",
       "    </tr>\n",
       "    <tr>\n",
       "      <th>3</th>\n",
       "      <td>3</td>\n",
       "      <td>VenusaurMega Venusaur</td>\n",
       "      <td>Grass</td>\n",
       "      <td>Poison</td>\n",
       "      <td>625</td>\n",
       "      <td>80</td>\n",
       "      <td>100</td>\n",
       "      <td>123</td>\n",
       "      <td>122</td>\n",
       "      <td>120</td>\n",
       "      <td>80</td>\n",
       "      <td>1</td>\n",
       "      <td>False</td>\n",
       "      <td>André</td>\n",
       "    </tr>\n",
       "    <tr>\n",
       "      <th>4</th>\n",
       "      <td>4</td>\n",
       "      <td>Charmander</td>\n",
       "      <td>Fire</td>\n",
       "      <td>NaN</td>\n",
       "      <td>309</td>\n",
       "      <td>39</td>\n",
       "      <td>52</td>\n",
       "      <td>43</td>\n",
       "      <td>60</td>\n",
       "      <td>50</td>\n",
       "      <td>65</td>\n",
       "      <td>1</td>\n",
       "      <td>False</td>\n",
       "      <td>Felipe</td>\n",
       "    </tr>\n",
       "  </tbody>\n",
       "</table>\n",
       "</div>"
      ],
      "text/plain": [
       "   #                   Name Type 1  Type 2  Total  HP  Attack  Defense  \\\n",
       "0  1              Bulbasaur  Grass  Poison    318  45      49       49   \n",
       "1  2                Ivysaur  Grass  Poison    405  60      62       63   \n",
       "2  3               Venusaur  Grass  Poison    525  80      82       83   \n",
       "3  3  VenusaurMega Venusaur  Grass  Poison    625  80     100      123   \n",
       "4  4             Charmander   Fire     NaN    309  39      52       43   \n",
       "\n",
       "   Sp. Atk  Sp. Def  Speed  Generation  Legendary    Dono  \n",
       "0       65       65     45           1      False  Felipe  \n",
       "1       80       80     60           1      False    Yago  \n",
       "2      100      100     80           1      False    Yago  \n",
       "3      122      120     80           1      False   André  \n",
       "4       60       50     65           1      False  Felipe  "
      ]
     },
     "execution_count": 3,
     "metadata": {},
     "output_type": "execute_result"
    }
   ],
   "source": [
    "# visualização das 5 primeiras linhas\n",
    "pkmn.head()"
   ]
  },
  {
   "attachments": {},
   "cell_type": "markdown",
   "metadata": {},
   "source": [
    "## Tarefas"
   ]
  },
  {
   "attachments": {},
   "cell_type": "markdown",
   "metadata": {},
   "source": [
    "Abaixo, em cada seção, realize as tarefas. Boa sorte !!!"
   ]
  },
  {
   "attachments": {},
   "cell_type": "markdown",
   "metadata": {},
   "source": [
    "### 1. Respondas as questões (2 pontos)"
   ]
  },
  {
   "attachments": {},
   "cell_type": "markdown",
   "metadata": {},
   "source": [
    "Com base no conjunto de dados, responda as perguntas abaixo utilizando Pandas ou Numpy para obter os resultados. Coloque seu código na célula marcada com \"### Seu código\" e sua resposta após o \"Resposta\". Fique a vontade para criar mais células para o seu código caso ache necessário.\n",
    "\n",
    "O item \"a\" é um exemplo de resposta"
   ]
  },
  {
   "attachments": {},
   "cell_type": "markdown",
   "metadata": {},
   "source": [
    "#### a. Dentre os pokémon de Fogo como 'Type 1', qual porcentagem deles são lendários? (Exemplo)"
   ]
  },
  {
   "cell_type": "code",
   "execution_count": 7,
   "metadata": {},
   "outputs": [
    {
     "name": "stderr",
     "output_type": "stream",
     "text": [
      "C:\\Users\\felma\\AppData\\Local\\Temp\\ipykernel_41368\\1870846260.py:3: UserWarning: Boolean Series key will be reindexed to match DataFrame index.\n",
      "  pkmn_fogo_lendario = pkmn_fogo[pkmn['Legendary'] == 1]\n"
     ]
    },
    {
     "data": {
      "text/plain": [
       "0.09615384615384616"
      ]
     },
     "execution_count": 7,
     "metadata": {},
     "output_type": "execute_result"
    }
   ],
   "source": [
    "### Seu código\n",
    "pkmn_fogo = pkmn[pkmn['Type 1'] == 'Fire']\n",
    "pkmn_fogo_lendario = pkmn_fogo[pkmn['Legendary'] == 1]\n",
    "\n",
    "len(pkmn_fogo_lendario)/len(pkmn_fogo)"
   ]
  },
  {
   "attachments": {},
   "cell_type": "markdown",
   "metadata": {},
   "source": [
    "Resposta: aproximadamente 0.096"
   ]
  },
  {
   "attachments": {},
   "cell_type": "markdown",
   "metadata": {},
   "source": [
    "#### b. Quantos pokémon existem com o tipo primário (\"Type 1\") \"Fire\" ? E como tipo segundário? "
   ]
  },
  {
   "cell_type": "code",
   "execution_count": null,
   "metadata": {},
   "outputs": [],
   "source": [
    "### Seu código\n"
   ]
  },
  {
   "cell_type": "code",
   "execution_count": null,
   "metadata": {},
   "outputs": [],
   "source": [
    "### Seu código"
   ]
  },
  {
   "attachments": {},
   "cell_type": "markdown",
   "metadata": {},
   "source": [
    "Resposta:\n",
    "- primário: \n",
    "- secundário: "
   ]
  },
  {
   "attachments": {},
   "cell_type": "markdown",
   "metadata": {},
   "source": [
    "#### c. Dentre os pokémon da 5ª geração que não possuem tipo fogo como tipo primário, nem como tipo secundário, qual possui a maior defesa?"
   ]
  },
  {
   "cell_type": "code",
   "execution_count": null,
   "metadata": {},
   "outputs": [],
   "source": [
    "### Seu código\n"
   ]
  },
  {
   "attachments": {},
   "cell_type": "markdown",
   "metadata": {},
   "source": [
    "Resposta:"
   ]
  },
  {
   "attachments": {},
   "cell_type": "markdown",
   "metadata": {},
   "source": [
    "#### d. Qual a geração de pokémon que possui a maior média de ataque entre os lendários?"
   ]
  },
  {
   "cell_type": "code",
   "execution_count": null,
   "metadata": {},
   "outputs": [],
   "source": [
    "### Seu código\n"
   ]
  },
  {
   "attachments": {},
   "cell_type": "markdown",
   "metadata": {},
   "source": [
    "Resposta: "
   ]
  },
  {
   "attachments": {},
   "cell_type": "markdown",
   "metadata": {},
   "source": [
    "#### e. Em relação aos donos dos pokémon, responda as seguintes perguntas:\n",
    "- Qual dono tem a maior média entre os \"total\" dos pokémon?\n",
    "- Qual dono possui mais pokémon lendários?\n",
    "- Escolha um dos donos e diga qual geração ele possui mais pokémon."
   ]
  },
  {
   "cell_type": "code",
   "execution_count": null,
   "metadata": {},
   "outputs": [],
   "source": [
    "### Seu código\n"
   ]
  },
  {
   "cell_type": "code",
   "execution_count": null,
   "metadata": {},
   "outputs": [],
   "source": [
    "### Seu código\n"
   ]
  },
  {
   "cell_type": "code",
   "execution_count": null,
   "metadata": {},
   "outputs": [],
   "source": [
    "### Seu código\n"
   ]
  },
  {
   "attachments": {},
   "cell_type": "markdown",
   "metadata": {},
   "source": [
    "Resposta: \n",
    "\n",
    "1: Dono1\n",
    "\n",
    "2: Dono2\n",
    "\n",
    "3: Dono3"
   ]
  },
  {
   "attachments": {},
   "cell_type": "markdown",
   "metadata": {},
   "source": [
    "### 2. Visualização de Dados (2 pontos)"
   ]
  },
  {
   "attachments": {},
   "cell_type": "markdown",
   "metadata": {},
   "source": [
    "Nessa seção, crie gráficos que respondam as seguintes perguntas:\n",
    "\n",
    "a. Quais variáveis são mais correlacionadas?\n",
    "\n",
    "b. Escolha 1 stat e responda a seguinte pergunta: a distribuição desse stat varia dependendo do dono? Dica: utilize box-plots ou histogramas \n",
    "\n",
    "c. Escolha 2 stats (pode repetir o da pergunta anterior) e responda a seguinte pergunta: considerando esses 2 stats, é possível distinguir através do gráfico os donos? Dica: utilize graficos de dispensão \n",
    "\n",
    "Fique a vontade para usar quantos gráficos achar necessário para responder as perguntas. Você pode usar 1 ou diversos gráficos para responder. Também fique a vontade para criar gráficos que descrevam o conjunto de dados além das perguntas feitas.\n",
    "\n",
    "Além dos gráficos, escreva a sua interpretação do gráfico e o que ele diz sobre a pergunta feita."
   ]
  },
  {
   "attachments": {},
   "cell_type": "markdown",
   "metadata": {},
   "source": [
    "#### Pergunta a."
   ]
  },
  {
   "cell_type": "code",
   "execution_count": null,
   "metadata": {},
   "outputs": [],
   "source": [
    "### Seu código"
   ]
  },
  {
   "attachments": {},
   "cell_type": "markdown",
   "metadata": {},
   "source": [
    "#### Pergunta b."
   ]
  },
  {
   "cell_type": "code",
   "execution_count": null,
   "metadata": {},
   "outputs": [],
   "source": [
    "### Seu código"
   ]
  },
  {
   "attachments": {},
   "cell_type": "markdown",
   "metadata": {},
   "source": [
    "#### Pergunta c."
   ]
  },
  {
   "cell_type": "code",
   "execution_count": null,
   "metadata": {},
   "outputs": [],
   "source": [
    "### Seu código"
   ]
  },
  {
   "attachments": {},
   "cell_type": "markdown",
   "metadata": {},
   "source": [
    "### 3. Preparação de dados (2 pontos)"
   ]
  },
  {
   "attachments": {},
   "cell_type": "markdown",
   "metadata": {},
   "source": [
    "Antes de implementar o seu modelo de machine learning, faça o pré-processamento necessário para os seus dados. Tópicos importantes a serem resolvidos nessa seção são: \n",
    "\n",
    "- Tratamento de dados nulos\n",
    "- Normalização de variáveis numéricas\n",
    "- Transformação de variáveis categoricas em numéricas \n",
    "- Seleção de features\n",
    "\n",
    "Não necessáriamente os tópicos acima devem ser resolvidos. Pode ser que o algoritmo de machine learning que você escolha não necessite dos tratamentos acima para funcionar ou para melhorar o desempenho. Porém, caso fosse necessário e você não realizou o tratamento, será descontado pontos.\n",
    "\n",
    "Além dos tópicos acima, faça os tratamentos que julgar necessário."
   ]
  },
  {
   "attachments": {},
   "cell_type": "markdown",
   "metadata": {},
   "source": [
    "#### Dados nulos"
   ]
  },
  {
   "cell_type": "code",
   "execution_count": null,
   "metadata": {},
   "outputs": [],
   "source": [
    "### Seu código"
   ]
  },
  {
   "attachments": {},
   "cell_type": "markdown",
   "metadata": {},
   "source": [
    "#### One hot encoding"
   ]
  },
  {
   "cell_type": "code",
   "execution_count": null,
   "metadata": {},
   "outputs": [],
   "source": [
    "### Seu código"
   ]
  },
  {
   "attachments": {},
   "cell_type": "markdown",
   "metadata": {},
   "source": [
    "#### Normalização"
   ]
  },
  {
   "cell_type": "code",
   "execution_count": null,
   "metadata": {},
   "outputs": [],
   "source": [
    "### Seu código"
   ]
  },
  {
   "attachments": {},
   "cell_type": "markdown",
   "metadata": {},
   "source": [
    "#### Seleção de features"
   ]
  },
  {
   "cell_type": "code",
   "execution_count": null,
   "metadata": {},
   "outputs": [],
   "source": [
    "### Seu código"
   ]
  },
  {
   "attachments": {},
   "cell_type": "markdown",
   "metadata": {},
   "source": [
    "### 4. Criação do modelo (2 pontos)"
   ]
  },
  {
   "attachments": {},
   "cell_type": "markdown",
   "metadata": {},
   "source": [
    "Nessa seção, você deverá criar, treinar e testar um classificador que prediz o dono com base nas características do pokémon. Para isso, você deverá:\n",
    "\n",
    "- dividir o conjunto em treino e teste\n",
    "- escolher um algoritmo de machine learning. Exemplos: Random Forest, KNN, Decision Tree, MLP\n",
    "- utilizar algum método para achar os melhores hiperparâmetros\n",
    "- treinar o modelo com os dados de treino \n",
    "- predizer a label a partir das features de teste"
   ]
  },
  {
   "attachments": {},
   "cell_type": "markdown",
   "metadata": {},
   "source": [
    "#### Separação Treino e Teste"
   ]
  },
  {
   "cell_type": "code",
   "execution_count": null,
   "metadata": {},
   "outputs": [],
   "source": [
    "### Seu código"
   ]
  },
  {
   "attachments": {},
   "cell_type": "markdown",
   "metadata": {},
   "source": [
    "#### Hyperparameter Tuning"
   ]
  },
  {
   "cell_type": "code",
   "execution_count": null,
   "metadata": {},
   "outputs": [],
   "source": [
    "### Seu código"
   ]
  },
  {
   "attachments": {},
   "cell_type": "markdown",
   "metadata": {},
   "source": [
    "#### Teste"
   ]
  },
  {
   "cell_type": "code",
   "execution_count": null,
   "metadata": {},
   "outputs": [],
   "source": [
    "### Seu código"
   ]
  },
  {
   "attachments": {},
   "cell_type": "markdown",
   "metadata": {},
   "source": [
    "### 5. Avaliação (2 pontos)"
   ]
  },
  {
   "attachments": {},
   "cell_type": "markdown",
   "metadata": {},
   "source": [
    "Nessa ultima seção, avalie o desempenho do seu modelo na tarefa de classificação. Utilize pelo menos 3 métricas para essa avaliação. Dica de métricas: acurácia e revocação."
   ]
  },
  {
   "cell_type": "code",
   "execution_count": null,
   "metadata": {},
   "outputs": [],
   "source": [
    "### Seu código"
   ]
  }
 ],
 "metadata": {
  "kernelspec": {
   "display_name": "Python 3 (ipykernel)",
   "language": "python",
   "name": "python3"
  },
  "language_info": {
   "codemirror_mode": {
    "name": "ipython",
    "version": 3
   },
   "file_extension": ".py",
   "mimetype": "text/x-python",
   "name": "python",
   "nbconvert_exporter": "python",
   "pygments_lexer": "ipython3",
   "version": "3.11.4"
  },
  "orig_nbformat": 4
 },
 "nbformat": 4,
 "nbformat_minor": 2
}
